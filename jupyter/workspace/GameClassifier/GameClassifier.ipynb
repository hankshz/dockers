{
 "cells": [
  {
   "cell_type": "code",
   "execution_count": null,
   "metadata": {
    "collapsed": true
   },
   "outputs": [],
   "source": [
    "import os\n",
    "import sys\n",
    "import xml.etree.ElementTree as ET"
   ]
  },
  {
   "cell_type": "code",
   "execution_count": null,
   "metadata": {},
   "outputs": [],
   "source": [
    "DOWNLOADS = './downloads'\n",
    "GAME_START_ID = 1\n",
    "GAME_END_ID = 2000"
   ]
  },
  {
   "cell_type": "code",
   "execution_count": null,
   "metadata": {
    "collapsed": true
   },
   "outputs": [],
   "source": [
    "def parseGameInfo(id, location, filename='info', allow=False):\n",
    "    result = {'id':id}\n",
    "    filepath = os.path.join(location, filename)\n",
    "    if not os.path.isfile(filepath):\n",
    "        print('File {} is missing'.format(filepath))\n",
    "        if not allow:\n",
    "            sys.exit(1)\n",
    "        return result\n",
    "    tree = ET.parse(filepath)\n",
    "    root = tree.getroot()\n",
    "    for child in root:\n",
    "        if child.tag == 'baseImgUrl':\n",
    "            result['baseImgUrl'] = child.text\n",
    "        if child.tag == 'Game':\n",
    "            for childChild in child:\n",
    "                if childChild.tag == 'GameTitle':\n",
    "                    result['GameTitle'] = childChild.text\n",
    "                elif childChild.tag == 'Platform':\n",
    "                    result['Platform'] = childChild.text\n",
    "                elif childChild.tag == 'Overview':\n",
    "                    result['Overview'] = childChild.text\n",
    "                elif childChild.tag == 'Platform':\n",
    "                    result['Platform'] = childChild.text\n",
    "                elif childChild.tag == 'Genres':\n",
    "                    result['Genres'] = []\n",
    "                    for childChildChild in childChild:\n",
    "                        if childChildChild.tag == 'genre':\n",
    "                            result['Genres'].append(childChildChild.text)\n",
    "                elif childChild.tag == 'Images':\n",
    "                    result['Images'] = []\n",
    "                    for childChildChild in childChild.iter(tag='screenshot'):\n",
    "                        for childChildChildChild in childChildChild.iter(tag='original'):\n",
    "                            result['Images'].append(childChildChildChild.text)\n",
    "    return result"
   ]
  },
  {
   "cell_type": "code",
   "execution_count": null,
   "metadata": {
    "collapsed": true
   },
   "outputs": [],
   "source": [
    "metaData = []\n",
    "totalGames = 0\n",
    "totalImages = 0\n",
    "for i in range(GAME_START_ID, GAME_END_ID+1):\n",
    "    info = parseGameInfo(i, os.path.join(DOWNLOADS, str(i)))\n",
    "    if 'Genres' in info and len(info.get('Images', [])) != 0:\n",
    "        metaData.append(info)\n",
    "        totalGames += 1\n",
    "        totalImages += len(info['Images'])\n",
    "print('Total games used: {}'.format(totalGames))\n",
    "print('Total images used: {}'.format(totalImages))"
   ]
  }
 ],
 "metadata": {
  "kernelspec": {
   "display_name": "Python 3",
   "language": "python",
   "name": "python3"
  },
  "language_info": {
   "codemirror_mode": {
    "name": "ipython",
    "version": 3
   },
   "file_extension": ".py",
   "mimetype": "text/x-python",
   "name": "python",
   "nbconvert_exporter": "python",
   "pygments_lexer": "ipython3",
   "version": "3.6.1"
  }
 },
 "nbformat": 4,
 "nbformat_minor": 2
}
