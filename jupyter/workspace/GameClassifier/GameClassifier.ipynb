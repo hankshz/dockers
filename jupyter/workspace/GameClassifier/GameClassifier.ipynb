{
 "cells": [
  {
   "cell_type": "markdown",
   "metadata": {},
   "source": [
    "# Game Classifier"
   ]
  },
  {
   "cell_type": "markdown",
   "metadata": {},
   "source": [
    "## Software prerequisite"
   ]
  },
  {
   "cell_type": "markdown",
   "metadata": {},
   "source": [
    "Import all the modules needed for the whole process."
   ]
  },
  {
   "cell_type": "code",
   "execution_count": 1,
   "metadata": {},
   "outputs": [
    {
     "name": "stderr",
     "output_type": "stream",
     "text": [
      "Using TensorFlow backend.\n"
     ]
    }
   ],
   "source": [
    "# Python built-ins\n",
    "from collections import Counter\n",
    "import hashlib\n",
    "import os\n",
    "import pickle\n",
    "import subprocess\n",
    "import sys\n",
    "import xml.etree.ElementTree as ET\n",
    "# third party modules\n",
    "from keras import optimizers\n",
    "from keras.applications.vgg16 import preprocess_input\n",
    "from keras.applications.vgg16 import VGG16\n",
    "from keras.layers import Dense, Activation\n",
    "from keras.models import load_model\n",
    "from keras.models import Sequential\n",
    "from keras.preprocessing import image\n",
    "import numpy as np\n",
    "from sklearn.preprocessing import MultiLabelBinarizer"
   ]
  },
  {
   "cell_type": "markdown",
   "metadata": {},
   "source": [
    "Define some user arguments."
   ]
  },
  {
   "cell_type": "code",
   "execution_count": 2,
   "metadata": {
    "collapsed": true
   },
   "outputs": [],
   "source": [
    "DOWNLOADS = './downloads' # Where is the downloads\n",
    "GAME_START_ID = 1 # Game ID to start with\n",
    "GAME_END_ID = 3000 # Game ID to end with"
   ]
  },
  {
   "cell_type": "markdown",
   "metadata": {},
   "source": [
    "Copy some functions from download.py so it can understand the downloads."
   ]
  },
  {
   "cell_type": "code",
   "execution_count": 3,
   "metadata": {
    "collapsed": true
   },
   "outputs": [],
   "source": [
    "def parseGameInfo(id, location, filename='info', allow=False):\n",
    "    result = {'id':id}\n",
    "    filepath = os.path.join(location, filename)\n",
    "    if not os.path.isfile(filepath):\n",
    "        print('File {} is missing'.format(filepath))\n",
    "        if not allow:\n",
    "            sys.exit(1)\n",
    "        return result\n",
    "    tree = ET.parse(filepath)\n",
    "    root = tree.getroot()\n",
    "    for child in root:\n",
    "        if child.tag == 'baseImgUrl':\n",
    "            result['baseImgUrl'] = child.text\n",
    "        if child.tag == 'Game':\n",
    "            for childChild in child:\n",
    "                if childChild.tag == 'GameTitle':\n",
    "                    result['GameTitle'] = childChild.text\n",
    "                elif childChild.tag == 'Platform':\n",
    "                    result['Platform'] = childChild.text\n",
    "                elif childChild.tag == 'Overview':\n",
    "                    result['Overview'] = childChild.text\n",
    "                elif childChild.tag == 'Platform':\n",
    "                    result['Platform'] = childChild.text\n",
    "                elif childChild.tag == 'Genres':\n",
    "                    result['Genres'] = []\n",
    "                    for childChildChild in childChild:\n",
    "                        if childChildChild.tag == 'genre':\n",
    "                            result['Genres'].append(childChildChild.text)\n",
    "                elif childChild.tag == 'Images':\n",
    "                    result['Images'] = []\n",
    "                    for childChildChild in childChild.iter(tag='screenshot'):\n",
    "                        for childChildChildChild in childChildChild.iter(tag='original'):\n",
    "                            result['Images'].append(childChildChildChild.text)\n",
    "    return result\n",
    "\n",
    "def hashURL(url):\n",
    "    m = hashlib.md5()\n",
    "    m.update(url.encode('utf-8'))\n",
    "    return m.hexdigest()"
   ]
  },
  {
   "cell_type": "markdown",
   "metadata": {},
   "source": [
    "Define more functions that will be used when building and trying the model"
   ]
  },
  {
   "cell_type": "code",
   "execution_count": 4,
   "metadata": {},
   "outputs": [
    {
     "name": "stdout",
     "output_type": "stream",
     "text": [
      "Downloading data from https://github.com/fchollet/deep-learning-models/releases/download/v0.1/vgg16_weights_tf_dim_ordering_tf_kernels_notop.h5\n",
      "58867712/58889256 [============================>.] - ETA: 0s"
     ]
    }
   ],
   "source": [
    "model = VGG16(weights='imagenet', include_top=False)\n",
    "def extractFeatureFromImage(filepath):\n",
    "    global model\n",
    "    img = image.load_img(filepath, target_size=(224, 224))\n",
    "    x = image.img_to_array(img)\n",
    "    x = np.expand_dims(x, axis=0)\n",
    "    x = preprocess_input(x)\n",
    "    features = model.predict(x)\n",
    "    return features.reshape(1,-1)"
   ]
  },
  {
   "cell_type": "markdown",
   "metadata": {},
   "source": [
    "## Dataset information"
   ]
  },
  {
   "cell_type": "markdown",
   "metadata": {},
   "source": [
    "Let us see how much information we have collected."
   ]
  },
  {
   "cell_type": "code",
   "execution_count": 5,
   "metadata": {},
   "outputs": [
    {
     "name": "stdout",
     "output_type": "stream",
     "text": [
      "Total games collected: 1064\n",
      "Total images collected: 2509\n"
     ]
    }
   ],
   "source": [
    "metaData = []\n",
    "totalGames = 0\n",
    "totalImages = 0\n",
    "for i in range(GAME_START_ID, GAME_END_ID+1):\n",
    "    info = parseGameInfo(i, os.path.join(DOWNLOADS, str(i)))\n",
    "    if 'Genres' in info and len(info.get('Images', [])) != 0:\n",
    "        metaData.append(info)\n",
    "        totalGames += 1\n",
    "        totalImages += len(info['Images'])\n",
    "print('Total games collected: {}'.format(totalGames))\n",
    "print('Total images collected: {}'.format(totalImages))"
   ]
  },
  {
   "cell_type": "markdown",
   "metadata": {},
   "source": [
    "Let us find out how many unique genres they belong to."
   ]
  },
  {
   "cell_type": "code",
   "execution_count": 15,
   "metadata": {},
   "outputs": [
    {
     "name": "stdout",
     "output_type": "stream",
     "text": [
      "19 genres with occurance:\n",
      "{'Shooter': 218, 'Action': 474, 'Flight Simulator': 9, 'Adventure': 224, 'Sandbox': 6, 'Racing': 60, 'Role-Playing': 122, 'Horror': 17, 'Fighting': 62, 'Platform': 141, 'Sports': 94, 'Strategy': 58, 'Stealth': 8, 'MMO': 4, 'Construction and Management Simulation': 9, 'Puzzle': 69, 'Vehicle Simulation': 3, 'Music': 3, 'Life Simulation': 7}\n"
     ]
    }
   ],
   "source": [
    "genres = []\n",
    "for info in metaData:\n",
    "    if 'Genres' not in info:\n",
    "        print(info)\n",
    "        break\n",
    "    genres.extend(info['Genres'])\n",
    "genres = Counter(genres)\n",
    "genreList = list(genres.keys())\n",
    "genreList.sort()\n",
    "numGenres = len(genreList)\n",
    "print('{} genres with occurance:'.format(numGenres))\n",
    "print(dict(genres))"
   ]
  },
  {
   "cell_type": "markdown",
   "metadata": {},
   "source": [
    "Helper functions to convert from genre to genre id and vice verse"
   ]
  },
  {
   "cell_type": "code",
   "execution_count": 7,
   "metadata": {
    "collapsed": true
   },
   "outputs": [],
   "source": [
    "def genreToID(genre):\n",
    "    return genreList.index(genre)\n",
    "\n",
    "def idToGenre(id):\n",
    "    return genreList[id]"
   ]
  },
  {
   "cell_type": "markdown",
   "metadata": {},
   "source": [
    "## Data pre-processing"
   ]
  },
  {
   "cell_type": "markdown",
   "metadata": {},
   "source": [
    "### Go straight to the section Try the model if you want to skip the time consuming part of training the model"
   ]
  },
  {
   "cell_type": "markdown",
   "metadata": {},
   "source": [
    "Extract the features from the images based on the pre-trained network."
   ]
  },
  {
   "cell_type": "code",
   "execution_count": null,
   "metadata": {
    "collapsed": true
   },
   "outputs": [],
   "source": [
    "feature_list=[]\n",
    "genre_list=[]\n",
    "i = 0\n",
    "for info in metaData:\n",
    "    for imageUrl in info['Images']:\n",
    "        i += 1\n",
    "        url = info['baseImgUrl'] + imageUrl\n",
    "        filepath = os.path.join(DOWNLOADS, str(info['id']), 'images', hashURL(url))\n",
    "        features = extractFeatureFromImage(filepath)\n",
    "        feature_list.append(features)\n",
    "        genre_list.append([genreToID(x) for x in info['Genres']])\n",
    "        if i % 100 == 0:\n",
    "            print('Finished {} images'.format(i))\n",
    "        # break # Uncomment it if you only want one image for each game."
   ]
  },
  {
   "cell_type": "markdown",
   "metadata": {},
   "source": [
    "Transform to X and Y"
   ]
  },
  {
   "cell_type": "code",
   "execution_count": null,
   "metadata": {
    "collapsed": true
   },
   "outputs": [],
   "source": [
    "(a,b)=feature_list[0].shape\n",
    "feature_size=a*b\n",
    "np_features=np.zeros((len(feature_list),feature_size))\n",
    "for i in range(len(feature_list)):\n",
    "    feat=feature_list[i]\n",
    "    np_features[i]=feat\n",
    "X=np_features\n",
    "\n",
    "mlb=MultiLabelBinarizer()\n",
    "Y=mlb.fit_transform(genre_list)"
   ]
  },
  {
   "cell_type": "markdown",
   "metadata": {},
   "source": [
    "Select the training set and testing set."
   ]
  },
  {
   "cell_type": "code",
   "execution_count": null,
   "metadata": {
    "collapsed": true
   },
   "outputs": [],
   "source": [
    "mask = np.random.rand(len(X)) < 0.8\n",
    "X_train=X[mask]\n",
    "X_test=X[~mask]\n",
    "Y_train=Y[mask]\n",
    "Y_test=Y[~mask]"
   ]
  },
  {
   "cell_type": "markdown",
   "metadata": {},
   "source": [
    "## Deep Learning"
   ]
  },
  {
   "cell_type": "markdown",
   "metadata": {},
   "source": [
    "Create the model."
   ]
  },
  {
   "cell_type": "code",
   "execution_count": null,
   "metadata": {
    "collapsed": true
   },
   "outputs": [],
   "source": [
    "model_visual = Sequential([\n",
    "    Dense(1024, input_shape=(25088,)),\n",
    "    Activation('relu'),\n",
    "    Dense(256),\n",
    "    Activation('relu'),\n",
    "    Dense(numGenres),\n",
    "    Activation('sigmoid'),\n",
    "])\n",
    "opt = optimizers.rmsprop(lr=0.0001, decay=1e-6)\n",
    "\n",
    "#sgd = optimizers.SGD(lr=0.05, decay=1e-6, momentum=0.4, nesterov=False)\n",
    "model_visual.compile(optimizer=opt, loss='binary_crossentropy', metrics=['accuracy'])"
   ]
  },
  {
   "cell_type": "markdown",
   "metadata": {},
   "source": [
    "Train it!"
   ]
  },
  {
   "cell_type": "code",
   "execution_count": null,
   "metadata": {
    "collapsed": true
   },
   "outputs": [],
   "source": [
    "model_visual.fit(X_train, Y_train, epochs=50, batch_size=64,verbose=1)"
   ]
  },
  {
   "cell_type": "markdown",
   "metadata": {},
   "source": [
    "Make the prediction."
   ]
  },
  {
   "cell_type": "code",
   "execution_count": null,
   "metadata": {
    "collapsed": true
   },
   "outputs": [],
   "source": [
    "Y_preds=model_visual.predict(X_test)"
   ]
  },
  {
   "cell_type": "markdown",
   "metadata": {},
   "source": [
    "## Evaluate the model"
   ]
  },
  {
   "cell_type": "markdown",
   "metadata": {},
   "source": [
    "Evaluation criteria."
   ]
  },
  {
   "cell_type": "code",
   "execution_count": null,
   "metadata": {
    "collapsed": true
   },
   "outputs": [],
   "source": [
    "def precision_recall(gt,preds):\n",
    "    TP=0\n",
    "    FP=0\n",
    "    FN=0\n",
    "    for t in gt:\n",
    "        if t in preds:\n",
    "            TP+=1\n",
    "        else:\n",
    "            FN+=1\n",
    "    for p in preds:\n",
    "        if p not in gt:\n",
    "            FP+=1\n",
    "    if TP+FP==0:\n",
    "        precision=0\n",
    "    else:\n",
    "        precision=TP/float(TP+FP)\n",
    "    if TP+FN==0:\n",
    "        recall=0\n",
    "    else:\n",
    "        recall=TP/float(TP+FN)\n",
    "    return precision,recall"
   ]
  },
  {
   "cell_type": "markdown",
   "metadata": {},
   "source": [
    "How is the model?"
   ]
  },
  {
   "cell_type": "code",
   "execution_count": null,
   "metadata": {
    "collapsed": true
   },
   "outputs": [],
   "source": [
    "precs=[]\n",
    "recs=[]\n",
    "for i in range(len(Y_preds)):\n",
    "    row=Y_preds[i]\n",
    "    gt_genres=Y_test[i]\n",
    "    gt_genre_names=[]\n",
    "    for j in range(len(gt_genres)):\n",
    "        if gt_genres[j]==1:\n",
    "            gt_genre_names.append(idToGenre(j))\n",
    "    #tops=np.argsort(row)[-len(gt_genre_names):]\n",
    "    tops=np.argsort(row)[-1:]\n",
    "    predicted_genres=[]\n",
    "    for genre in tops:\n",
    "        predicted_genres.append(idToGenre(genre))\n",
    "    (precision,recall)=precision_recall(gt_genre_names,predicted_genres)\n",
    "    precs.append(precision)\n",
    "    recs.append(recall)\n",
    "print('Precision is {}'.format(np.mean(np.asarray(precs))))\n",
    "print('Recall is {}'.format(np.mean(np.asarray(recs))))"
   ]
  },
  {
   "cell_type": "markdown",
   "metadata": {},
   "source": [
    "Save the model"
   ]
  },
  {
   "cell_type": "code",
   "execution_count": null,
   "metadata": {
    "collapsed": true
   },
   "outputs": [],
   "source": [
    "model_visual.save('GameClassifier.hdf5')"
   ]
  },
  {
   "cell_type": "markdown",
   "metadata": {},
   "source": [
    "## Try the model"
   ]
  },
  {
   "cell_type": "markdown",
   "metadata": {},
   "source": [
    "Load the model"
   ]
  },
  {
   "cell_type": "code",
   "execution_count": 8,
   "metadata": {
    "collapsed": true
   },
   "outputs": [],
   "source": [
    "my_model = load_model('GameClassifier.hdf5')"
   ]
  },
  {
   "cell_type": "markdown",
   "metadata": {},
   "source": [
    "Make a guess!"
   ]
  },
  {
   "cell_type": "code",
   "execution_count": null,
   "metadata": {},
   "outputs": [
    {
     "name": "stdout",
     "output_type": "stream",
     "text": [
      "Image URL: http://images9.gry-online.pl/galeria/galeria_duze3/417648453.jpg\n",
      "Guess 1: Is Adventure correct? no\n",
      "Guess 2: Is Platform correct? no\n",
      "Guess 3: Is Role-Playing correct? no\n",
      "Guess 4: Is Puzzle correct? no\n",
      "Guess 5: Is Action correct? no\n",
      "Guess 6: Is Strategy correct? no\n",
      "Guess 7: Is MMO correct? no\n",
      "Guess 8: Is Flight Simulator correct? no\n",
      "Guess 9: Is Vehicle Simulation correct? \n",
      "Guess 10: Is Horror correct? \n",
      "Guess 11: Is Shooter correct? \n",
      "Guess 12: Is Life Simulation correct? \n",
      "Guess 13: Is Sports correct? \n",
      "Guess 14: Is Stealth correct? \n",
      "Guess 15: Is Racing correct? \n"
     ]
    }
   ],
   "source": [
    "image_path = '/tmp/test'\n",
    "url = input('Image URL: ')\n",
    "subprocess.check_call(['rm', '-rf', image_path])\n",
    "subprocess.check_call(['wget', '-O', image_path, url])\n",
    "\n",
    "X = extractFeatureFromImage(image_path)\n",
    "Y=my_model.predict(X)\n",
    "row = Y[0]\n",
    "orders = np.argsort(row)[::-1]\n",
    "i = 1\n",
    "for guess in orders:\n",
    "    answer = input('Guess {}: Is {} correct? '.format(i, idToGenre(guess)))\n",
    "    i += 1\n",
    "    if answer.lower() == 'y' or answer.lower() == 'yes':\n",
    "        print('Great!')\n",
    "        break"
   ]
  }
 ],
 "metadata": {
  "kernelspec": {
   "display_name": "Python 3",
   "language": "python",
   "name": "python3"
  },
  "language_info": {
   "codemirror_mode": {
    "name": "ipython",
    "version": 3
   },
   "file_extension": ".py",
   "mimetype": "text/x-python",
   "name": "python",
   "nbconvert_exporter": "python",
   "pygments_lexer": "ipython3",
   "version": "3.6.1"
  }
 },
 "nbformat": 4,
 "nbformat_minor": 2
}
